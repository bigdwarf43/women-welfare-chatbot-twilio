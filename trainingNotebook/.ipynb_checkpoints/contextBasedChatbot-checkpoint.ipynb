{
 "cells": [
  {
   "cell_type": "code",
   "execution_count": 1,
   "id": "46017ee1",
   "metadata": {},
   "outputs": [
    {
     "name": "stdout",
     "output_type": "stream",
     "text": [
      "WARNING:tensorflow:From C:\\python\\lib\\site-packages\\tensorflow\\python\\compat\\v2_compat.py:107: disable_resource_variables (from tensorflow.python.ops.variable_scope) is deprecated and will be removed in a future version.\n",
      "Instructions for updating:\n",
      "non-resource variables are not supported in the long term\n",
      "curses is not supported on this machine (please install/reinstall curses for an optimal experience)\n"
     ]
    }
   ],
   "source": [
    "import nltk\n",
    "\n",
    "from nltk.stem.lancaster import LancasterStemmer\n",
    "\n",
    "stemmer = LancasterStemmer()\n",
    "\n",
    "#For tensorflow model\n",
    "import numpy as np\n",
    "import tflearn\n",
    "import tensorflow as tf\n",
    "import random\n"
   ]
  },
  {
   "cell_type": "code",
   "execution_count": 2,
   "id": "b12b0aa1",
   "metadata": {},
   "outputs": [],
   "source": [
    "#importing the intents file\n",
    "\n",
    "import json\n",
    "\n",
    "with open('intents.json') as json_data:\n",
    "    intents = json.load(json_data)"
   ]
  },
  {
   "cell_type": "code",
   "execution_count": 3,
   "id": "853a4544",
   "metadata": {},
   "outputs": [
    {
     "name": "stdout",
     "output_type": "stream",
     "text": [
      "120 documents\n",
      "24 classes ['anxiety', 'bad', 'body image', 'bullying', 'can I', 'coping', 'counsellor', 'cure', 'depression', 'feeling', 'good', 'goodbye', 'greeting', 'lonely', 'mental illness', 'mood', 'peer pressure', 'psychiatrist', 'psychologist', 'relationships', 'self-esteem', 'stress', 'thanks', 'treatment']\n",
      "197 unique stemmed words ['!', \"'m\", \"'s\", ',', 'a', 'about', 'adv', 'affect', 'afraid', 'aft', 'agit', 'al', 'alon', 'alway', 'am', 'and', 'anxy', 'anyon', 'appear', 'ar', 'at', 'attack', 'avail', 'bad', 'becom', 'being', 'bet', 'between', 'body', 'both', 'bring', 'bul', 'by', 'bye', 'ca', 'can', 'car', 'caught', 'caus', 'chang', 'classm', 'clin', 'comp', 'confid', 'connect', 'consid', 'const', 'cont', 'control', 'cop', 'counsel', 'cre', 'crush', 'cur', 'dea', 'depress', 'diet', 'direct', 'disappoint', 'do', 'doct', 'doe', 'doing', 'down', 'easy', 'edg', 'emot', 'energy', 'enjoy', 'enough', 'exhaust', 'fail', 'feel', 'find', 'for', 'friend', 'get', 'go', 'good', 'goodby', 'gre', 'group', 'happy', 'hav', 'heal', 'hello', 'help', 'hey', 'hi', 'hopeless', 'how', 'i', 'if', 'il', 'in', 'inform', 'inpaty', 'involv', 'is', 'it', 'joy', 'know', 'lat', 'learn', 'left', 'lik', 'littl', 'loc', 'lon', 'los', 'lot', 'maintain', 'mak', 'man', 'me', 'mean', 'med', 'ment', 'mor', 'mot', 'much', 'my', 'myself', \"n't\", 'nee', 'nev', 'new', 'no', 'nobody', 'not', 'of', 'on', 'opt', 'or', 'oth', 'out', 'overwhelm', 'pan', 'pay', 'pick', 'press', 'problem', 'psycholog', 'psychy', 'reject', 'relax', 'sad', 'saf', 'school', 'see', 'self-harm', 'serv', 'shar', 'sign', 'sleep', 'soc', 'som', 'stop', 'struggling', 'suicid', 'support', 'sur', 'surgery', 'tak', 'talk', 'teas', 'thank', 'that', 'the', 'ther', 'therapy', 'thi', 'thing', 'think', 'thought', 'through', 'tim', 'tir', 'to', 'too', 'tre', 'tri', 'troubl', 'typ', 'unhappy', 'us', 'want', 'warn', 'way', 'wel', 'what', 'wher', 'who', 'with', 'worry', 'worthless', 'you']\n"
     ]
    }
   ],
   "source": [
    "words = []\n",
    "classes = []\n",
    "documents = []\n",
    "ignore_words = ['?']\n",
    "\n",
    "#looping through every intent\n",
    "for intent in intents['intents']:\n",
    "    for pattern in intent['patterns']:\n",
    "        #tokenizing each word in the sentence\n",
    "        w = nltk.word_tokenize(pattern)\n",
    "        #add to the wordList\n",
    "        words.extend(w)\n",
    "        \n",
    "        #add to documents\n",
    "        documents.append((w, intent['tag']))\n",
    "        \n",
    "        #add to classes list\n",
    "        if intent['tag'] not in classes:\n",
    "            classes.append(intent['tag'])\n",
    "            \n",
    "#stem and lower each word and removing duplicates\n",
    "words = [stemmer.stem(w.lower()) for w in words if w not in ignore_words]\n",
    "words = sorted(list(set(words)))\n",
    "\n",
    "classes = sorted(list(set(classes)))\n",
    "\n",
    "\n",
    "print (len(documents), \"documents\")\n",
    "print (len(classes), \"classes\", classes)\n",
    "print (len(words), \"unique stemmed words\", words)\n",
    "        "
   ]
  },
  {
   "cell_type": "code",
   "execution_count": 4,
   "id": "0106fbdf",
   "metadata": {},
   "outputs": [
    {
     "name": "stderr",
     "output_type": "stream",
     "text": [
      "C:\\Users\\yashw\\AppData\\Local\\Temp\\ipykernel_1152\\987945108.py:22: VisibleDeprecationWarning: Creating an ndarray from ragged nested sequences (which is a list-or-tuple of lists-or-tuples-or ndarrays with different lengths or shapes) is deprecated. If you meant to do this, you must specify 'dtype=object' when creating the ndarray.\n",
      "  training = np.array(training)\n"
     ]
    }
   ],
   "source": [
    "training = []\n",
    "output = []\n",
    "\n",
    "#create empty array for output\n",
    "output_empty = [0] * len(classes)\n",
    "\n",
    "for doc in documents:\n",
    "    bag = []\n",
    "    pattern_words = doc[0]\n",
    "    pattern_words = [stemmer.stem(word.lower()) for word in pattern_words]\n",
    "    \n",
    "    #create bag of words array\n",
    "    for w in words:\n",
    "        bag.append(1) if w in pattern_words else bag.append(0)\n",
    "        \n",
    "    \n",
    "    output_row = list(output_empty)\n",
    "    output_row[classes.index(doc[1])] = 1\n",
    "    training.append([bag, output_row])\n",
    "    \n",
    "random.shuffle(training)\n",
    "training = np.array(training)\n",
    "\n",
    "train_x = list(training[:, 0])\n",
    "train_y = list(training[:, 1])"
   ]
  },
  {
   "cell_type": "code",
   "execution_count": 5,
   "id": "202a732f",
   "metadata": {},
   "outputs": [],
   "source": [
    "# train_x example: [0, 0, 0, 0, 0, 1, 0, 0, 0, 0, 0, 0, 0, 0, 0, 0, 0, 0, 0, 0, 0, 0, 0, 0, 0, 0, 0, 0, 0, 0, 0, 1, 0, 0, 0, 0, 0, 0, 0, 0, 0, 0, 0, 1, 0, 0, 0, 1] \n",
    "# train_y example: [0, 0, 1, 0, 0, 0, 0, 0, 0]"
   ]
  },
  {
   "cell_type": "code",
   "execution_count": 6,
   "id": "f253495e",
   "metadata": {},
   "outputs": [
    {
     "name": "stdout",
     "output_type": "stream",
     "text": [
      "Training Step: 14999  | total loss: \u001b[1m\u001b[32m0.08733\u001b[0m\u001b[0m | time: 0.052s\n",
      "| Adam | epoch: 1000 | loss: 0.08733 - acc: 0.9454 -- iter: 112/120\n",
      "Training Step: 15000  | total loss: \u001b[1m\u001b[32m0.07898\u001b[0m\u001b[0m | time: 0.056s\n",
      "| Adam | epoch: 1000 | loss: 0.07898 - acc: 0.9508 -- iter: 120/120\n",
      "--\n",
      "INFO:tensorflow:D:\\study\\sem5\\nlp\\contextBasedChatbot\\model.tflearn is not in all_model_checkpoint_paths. Manually adding it.\n"
     ]
    }
   ],
   "source": [
    "tf.compat.v1.reset_default_graph()\n",
    "# Build neural network\n",
    "net = tflearn.input_data(shape=[None, len(train_x[0])])\n",
    "net = tflearn.fully_connected(net, 8)\n",
    "net = tflearn.fully_connected(net, 8)\n",
    "net = tflearn.fully_connected(net, len(train_y[0]), activation='softmax')\n",
    "net = tflearn.regression(net)\n",
    "\n",
    "# Define model and setup tensorboard\n",
    "model = tflearn.DNN(net, tensorboard_dir='tflearn_logs')\n",
    "# Start training (apply gradient descent algorithm)\n",
    "model.fit(train_x, train_y, n_epoch=2000, batch_size=8, show_metric=True)\n",
    "model.save('model.tflearn')"
   ]
  },
  {
   "cell_type": "code",
   "execution_count": 7,
   "id": "a090d844",
   "metadata": {},
   "outputs": [],
   "source": [
    "\n",
    "# save all of our data structures\n",
    "import pickle\n",
    "pickle.dump( {'words':words, 'classes':classes, 'train_x':train_x, 'train_y':train_y}, open( \"training_data\", \"wb\" ) )"
   ]
  },
  {
   "cell_type": "code",
   "execution_count": 8,
   "id": "3ea68d11",
   "metadata": {},
   "outputs": [],
   "source": [
    "# restore all of our data structures\n",
    "import pickle\n",
    "data = pickle.load( open( \"training_data\", \"rb\" ) )\n",
    "words = data['words']\n",
    "classes = data['classes']\n",
    "train_x = data['train_x']\n",
    "train_y = data['train_y']\n",
    "\n",
    "# import our chat-bot intents file\n",
    "import json\n",
    "with open('intents.json') as json_data:\n",
    "    intents = json.load(json_data)"
   ]
  },
  {
   "cell_type": "code",
   "execution_count": 9,
   "id": "e06a2803",
   "metadata": {},
   "outputs": [
    {
     "name": "stdout",
     "output_type": "stream",
     "text": [
      "INFO:tensorflow:Restoring parameters from D:\\study\\sem5\\nlp\\contextBasedChatbot\\model.tflearn\n"
     ]
    }
   ],
   "source": [
    "# load our saved model\n",
    "model.load('./model.tflearn')"
   ]
  },
  {
   "cell_type": "code",
   "execution_count": 10,
   "id": "82e52dd0",
   "metadata": {},
   "outputs": [],
   "source": [
    "def clean_up_sentence(sentence):\n",
    "    # tokenize the pattern\n",
    "    sentence_words = nltk.word_tokenize(sentence)\n",
    "    # stem each word\n",
    "    sentence_words = [stemmer.stem(word.lower()) for word in sentence_words]\n",
    "    return sentence_words\n",
    "\n",
    "# return bag of words array: 0 or 1 for each word in the bag that exists in the sentence\n",
    "def bow(sentence, words, show_details=False):\n",
    "    # tokenize the pattern\n",
    "    sentence_words = clean_up_sentence(sentence)\n",
    "    # bag of words\n",
    "    bag = [0]*len(words)  \n",
    "    for s in sentence_words:\n",
    "        for i,w in enumerate(words):\n",
    "            if w == s: \n",
    "                bag[i] = 1\n",
    "                if show_details:\n",
    "                    print (\"found in bag: %s\" % w)\n",
    "\n",
    "    return(np.array(bag))"
   ]
  },
  {
   "cell_type": "code",
   "execution_count": 11,
   "id": "b714f2d3",
   "metadata": {},
   "outputs": [],
   "source": [
    "# create a data structure to hold user context\n",
    "context = {}\n",
    "\n",
    "ERROR_THRESHOLD = 0.25\n",
    "def classify(sentence):\n",
    "    # generate probabilities from the model\n",
    "    results = model.predict([bow(sentence, words)])[0]\n",
    "    # filter out predictions below a threshold\n",
    "    results = [[i,r] for i,r in enumerate(results) if r>ERROR_THRESHOLD]\n",
    "    # sort by strength of probability\n",
    "    results.sort(key=lambda x: x[1], reverse=True)\n",
    "    print(\"results\",results)\n",
    "    return_list = []\n",
    "    for r in results:\n",
    "        return_list.append((classes[r[0]], r[1]))\n",
    "    # return tuple of intent and probability\n",
    "    print(\"return_list\", return_list)\n",
    "    return return_list\n",
    "\n",
    "def response(sentence, userID='123', show_details=False):\n",
    "    results = classify(sentence)\n",
    "    # if we have a classification then find the matching intent tag\n",
    "    if results:\n",
    "        # loop as long as there are matches to process\n",
    "        while results:\n",
    "            for i in intents['intents']:\n",
    "                # find a tag matching the first result\n",
    "                if i['tag'] == results[0][0]:\n",
    "                    # set context for this intent if necessary\n",
    "                    if 'context_set' in i:\n",
    "                        if show_details: print ('context:', i['context_set'])\n",
    "                        context[userID] = i['context_set']\n",
    "\n",
    "                    # check if this intent is contextual and applies to this user's conversation\n",
    "                    if not 'context_filter' in i or \\\n",
    "                        (userID in context and 'context_filter' in i and i['context_filter'] == context[userID]):\n",
    "                        if show_details: print ('tag:', i['tag'])\n",
    "                        # a random response from the intent\n",
    "                        return print(random.choice(i['responses']))\n",
    "                    else:\n",
    "                        print(\"I do not understand\")\n",
    "    \n",
    "            results.pop(0)\n",
    "    else:\n",
    "        print(\"I do not understand\")"
   ]
  },
  {
   "cell_type": "code",
   "execution_count": 12,
   "id": "b27a1181",
   "metadata": {},
   "outputs": [
    {
     "name": "stdout",
     "output_type": "stream",
     "text": [
      "results [[19, 0.9846585]]\n",
      "return_list [('relationships', 0.9846585)]\n",
      "Navigating relationships and social dynamics can be challenging, especially during the teenage years. It's important to remember that it's okay to ask for help and support when you need it.\n"
     ]
    }
   ],
   "source": [
    "response('My parents dont support me')"
   ]
  },
  {
   "cell_type": "code",
   "execution_count": 13,
   "id": "499e9333",
   "metadata": {},
   "outputs": [
    {
     "name": "stdout",
     "output_type": "stream",
     "text": [
      "results [[1, 0.6047923], [15, 0.3924028]]\n",
      "return_list [('bad', 0.6047923), ('mood', 0.3924028)]\n",
      "It's ok, you can talk to me about how you feel\n"
     ]
    }
   ],
   "source": [
    "response(\"i feel depressed\")"
   ]
  },
  {
   "cell_type": "code",
   "execution_count": 14,
   "id": "146a7b37",
   "metadata": {},
   "outputs": [
    {
     "name": "stdout",
     "output_type": "stream",
     "text": [
      "results [[20, 0.9973539]]\n",
      "return_list [('self-esteem', 0.9973539)]\n",
      "Low self-esteem can be a difficult thing to deal with, but it's important to remember that everyone has strengths and weaknesses, and that's what makes us unique.\n"
     ]
    }
   ],
   "source": [
    "response(\"My friends don't like me\")"
   ]
  },
  {
   "cell_type": "code",
   "execution_count": 15,
   "id": "2efb17b8",
   "metadata": {},
   "outputs": [
    {
     "name": "stdout",
     "output_type": "stream",
     "text": [
      "results [[1, 0.96764106]]\n",
      "return_list [('bad', 0.96764106)]\n",
      "It's ok, you can talk to me about how you feel\n"
     ]
    }
   ],
   "source": [
    "response(\"I don't look good\")"
   ]
  },
  {
   "cell_type": "code",
   "execution_count": null,
   "id": "b887ce53",
   "metadata": {},
   "outputs": [],
   "source": []
  }
 ],
 "metadata": {
  "kernelspec": {
   "display_name": "Python 3 (ipykernel)",
   "language": "python",
   "name": "python3"
  },
  "language_info": {
   "codemirror_mode": {
    "name": "ipython",
    "version": 3
   },
   "file_extension": ".py",
   "mimetype": "text/x-python",
   "name": "python",
   "nbconvert_exporter": "python",
   "pygments_lexer": "ipython3",
   "version": "3.10.5"
  }
 },
 "nbformat": 4,
 "nbformat_minor": 5
}
